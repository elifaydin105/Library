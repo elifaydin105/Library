{
 "cells": [
  {
   "cell_type": "code",
   "execution_count": 1,
   "metadata": {},
   "outputs": [
    {
     "ename": "OSError",
     "evalue": "[Errno 30] Read-only file system: 'books.txt'",
     "output_type": "error",
     "traceback": [
      "\u001b[0;31m---------------------------------------------------------------------------\u001b[0m",
      "\u001b[0;31mOSError\u001b[0m                                   Traceback (most recent call last)",
      "\u001b[0;32m/var/folders/3g/xl5kznkn18vcknqmcjlz289c0000gn/T/ipykernel_2181/691329525.py\u001b[0m in \u001b[0;36m<module>\u001b[0;34m\u001b[0m\n\u001b[1;32m     44\u001b[0m \u001b[0;34m\u001b[0m\u001b[0m\n\u001b[1;32m     45\u001b[0m \u001b[0;31m# Creating Library object\u001b[0m\u001b[0;34m\u001b[0m\u001b[0;34m\u001b[0m\u001b[0m\n\u001b[0;32m---> 46\u001b[0;31m \u001b[0mlib\u001b[0m \u001b[0;34m=\u001b[0m \u001b[0mLibrary\u001b[0m\u001b[0;34m(\u001b[0m\u001b[0;34m)\u001b[0m\u001b[0;34m\u001b[0m\u001b[0;34m\u001b[0m\u001b[0m\n\u001b[0m\u001b[1;32m     47\u001b[0m \u001b[0;34m\u001b[0m\u001b[0m\n\u001b[1;32m     48\u001b[0m \u001b[0;31m# Menu\u001b[0m\u001b[0;34m\u001b[0m\u001b[0;34m\u001b[0m\u001b[0m\n",
      "\u001b[0;32m/var/folders/3g/xl5kznkn18vcknqmcjlz289c0000gn/T/ipykernel_2181/691329525.py\u001b[0m in \u001b[0;36m__init__\u001b[0;34m(self)\u001b[0m\n\u001b[1;32m      2\u001b[0m     \u001b[0;32mdef\u001b[0m \u001b[0m__init__\u001b[0m\u001b[0;34m(\u001b[0m\u001b[0mself\u001b[0m\u001b[0;34m)\u001b[0m\u001b[0;34m:\u001b[0m\u001b[0;34m\u001b[0m\u001b[0;34m\u001b[0m\u001b[0m\n\u001b[1;32m      3\u001b[0m         \u001b[0mself\u001b[0m\u001b[0;34m.\u001b[0m\u001b[0mfile_name\u001b[0m \u001b[0;34m=\u001b[0m \u001b[0;34m\"books.txt\"\u001b[0m\u001b[0;34m\u001b[0m\u001b[0;34m\u001b[0m\u001b[0m\n\u001b[0;32m----> 4\u001b[0;31m         \u001b[0mself\u001b[0m\u001b[0;34m.\u001b[0m\u001b[0mfile\u001b[0m \u001b[0;34m=\u001b[0m \u001b[0mopen\u001b[0m\u001b[0;34m(\u001b[0m\u001b[0mself\u001b[0m\u001b[0;34m.\u001b[0m\u001b[0mfile_name\u001b[0m\u001b[0;34m,\u001b[0m \u001b[0;34m\"a+\"\u001b[0m\u001b[0;34m)\u001b[0m\u001b[0;34m\u001b[0m\u001b[0;34m\u001b[0m\u001b[0m\n\u001b[0m\u001b[1;32m      5\u001b[0m \u001b[0;34m\u001b[0m\u001b[0m\n\u001b[1;32m      6\u001b[0m     \u001b[0;32mdef\u001b[0m \u001b[0m__del__\u001b[0m\u001b[0;34m(\u001b[0m\u001b[0mself\u001b[0m\u001b[0;34m)\u001b[0m\u001b[0;34m:\u001b[0m\u001b[0;34m\u001b[0m\u001b[0;34m\u001b[0m\u001b[0m\n",
      "\u001b[0;31mOSError\u001b[0m: [Errno 30] Read-only file system: 'books.txt'"
     ]
    }
   ],
   "source": [
    "class Library:\n",
    "    def __init__(self):\n",
    "        self.file_name = \"books.txt\"\n",
    "        self.file = open(self.file_name, \"a+\")\n",
    "\n",
    "    def __del__(self):\n",
    "        self.file.close()\n",
    "\n",
    "    def list_books(self):\n",
    "        self.file.seek(0)\n",
    "        books = self.file.readlines()\n",
    "        for book in books:\n",
    "            book_info = book.strip().split(',')\n",
    "            print(f\"Title: {book_info[0]}, Author: {book_info[1]}\")\n",
    "\n",
    "    def add_book(self):\n",
    "        title = input(\"Enter book title: \")\n",
    "        author = input(\"Enter book author: \")\n",
    "        release_year = input(\"Enter release year: \")\n",
    "        pages = input(\"Enter number of pages: \")\n",
    "        book_info = f\"{title},{author},{release_year},{pages}\\n\"\n",
    "        self.file.write(book_info)\n",
    "        print(\"Book added successfully.\")\n",
    "\n",
    "    def remove_book(self):\n",
    "        title = input(\"Enter the title of the book to remove: \")\n",
    "        self.file.seek(0)\n",
    "        books = self.file.readlines()\n",
    "        updated_books = []\n",
    "        found = False\n",
    "        for book in books:\n",
    "            if title in book:\n",
    "                found = True\n",
    "            else:\n",
    "                updated_books.append(book)\n",
    "        if found:\n",
    "            self.file.seek(0)\n",
    "            self.file.truncate()\n",
    "            for book in updated_books:\n",
    "                self.file.write(book)\n",
    "            print(\"Book removed successfully.\")\n",
    "        else:\n",
    "            print(\"Book not found.\")\n",
    "\n",
    "# Creating Library object\n",
    "lib = Library()\n",
    "\n",
    "# Menu\n",
    "print(\"*** MENU***\")\n",
    "print(\"1) List Books\")\n",
    "print(\"2) Add Book\")\n",
    "print(\"3) Remove Book\")\n",
    "\n",
    "choice = input(\"Enter your choice: \")\n",
    "\n",
    "if choice == '1':\n",
    "    lib.list_books()\n",
    "elif choice == '2':\n",
    "    lib.add_book()\n",
    "elif choice == '3':\n",
    "    lib.remove_book()\n",
    "else:\n",
    "    print(\"Invalid choice.\")\n"
   ]
  }
 ],
 "metadata": {
  "kernelspec": {
   "display_name": "base",
   "language": "python",
   "name": "python3"
  },
  "language_info": {
   "codemirror_mode": {
    "name": "ipython",
    "version": 3
   },
   "file_extension": ".py",
   "mimetype": "text/x-python",
   "name": "python",
   "nbconvert_exporter": "python",
   "pygments_lexer": "ipython3",
   "version": "3.9.7"
  }
 },
 "nbformat": 4,
 "nbformat_minor": 2
}
